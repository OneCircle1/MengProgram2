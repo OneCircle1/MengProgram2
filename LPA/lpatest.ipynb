{
 "cells": [
  {
   "cell_type": "code",
   "execution_count": 1,
   "metadata": {},
   "outputs": [],
   "source": [
    "import csv"
   ]
  },
  {
   "cell_type": "code",
   "execution_count": 2,
   "metadata": {},
   "outputs": [],
   "source": [
    "def loadLpaData(filename):\n",
    "\n",
    "    with open(filename, mode='r') as infile:\n",
    "        reader = csv.reader(infile)\n",
    "        with open(filename, mode='w') as outfile:\n",
    "            writer = csv.writer(outfile)\n",
    "            for rows in reader:\n",
    "                order,ship = rows[0], rows[1]\n",
    "                data.setdefault(order,ships)\n",
    "    return data\n"
   ]
  },
  {
   "cell_type": "code",
   "execution_count": 3,
   "metadata": {},
   "outputs": [],
   "source": [
    "def getMost(ships):\n",
    "    import collections\n",
    "    counter = collections.Counter(ships)\n",
    "    tmp = sorted(counter.items(),key = lambda x:x[1])\n",
    "    \n",
    "    maxc = tmp[-1][1]\n",
    "    maxset = []\n",
    "    for i in tmp:\n",
    "        if i[1] == maxc:maxset.append(i[0])\n",
    "    \n",
    "    import random\n",
    "    random.shuffle(maxset)\n",
    "    return maxset[0]\n"
   ]
  },
  {
   "cell_type": "code",
   "execution_count": 4,
   "metadata": {},
   "outputs": [],
   "source": [
    "def updateShips(cluster,data):\n",
    "    for _ in data.keys():\n",
    "        data[_] = [cluster[i] for i in data[_]]"
   ]
  },
  {
   "cell_type": "code",
   "execution_count": 5,
   "metadata": {},
   "outputs": [],
   "source": [
    "\n",
    "def checkStatus(cluster,data):\n",
    "    flag = 0\n",
    "    for d in data.keys():\n",
    "        if cluster[d] != getMost(data[d]):return 0\n",
    "    return 1"
   ]
  },
  {
   "cell_type": "code",
   "execution_count": 7,
   "metadata": {},
   "outputs": [],
   "source": [
    "def main(mydata):\n",
    "    data = mydata.copy()\n",
    "    cluster = dict([(_,_) for _ in data.keys()])\n",
    "    while 1:\n",
    "        if checkStatus(cluster,data):break\n",
    "        for i in cluster.keys():\n",
    "            cluster[i] = getMost(data[i])\n",
    "            updateShips(cluster,data)\n",
    "    return cluster\n"
   ]
  },
  {
   "cell_type": "code",
   "execution_count": 9,
   "metadata": {},
   "outputs": [],
   "source": [
    "data = {}"
   ]
  },
  {
   "cell_type": "code",
   "execution_count": 12,
   "metadata": {},
   "outputs": [],
   "source": [
    "data = loadLpaData('20180321.csv')"
   ]
  },
  {
   "cell_type": "code",
   "execution_count": 13,
   "metadata": {},
   "outputs": [
    {
     "data": {
      "text/plain": [
       "{}"
      ]
     },
     "execution_count": 13,
     "metadata": {},
     "output_type": "execute_result"
    }
   ],
   "source": [
    "\n",
    "main(data)"
   ]
  },
  {
   "cell_type": "code",
   "execution_count": null,
   "metadata": {},
   "outputs": [],
   "source": []
  }
 ],
 "metadata": {
  "kernelspec": {
   "display_name": "Python 3",
   "language": "python",
   "name": "python3"
  },
  "language_info": {
   "codemirror_mode": {
    "name": "ipython",
    "version": 3
   },
   "file_extension": ".py",
   "mimetype": "text/x-python",
   "name": "python",
   "nbconvert_exporter": "python",
   "pygments_lexer": "ipython3",
   "version": "3.6.5"
  }
 },
 "nbformat": 4,
 "nbformat_minor": 2
}
