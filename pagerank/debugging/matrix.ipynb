{
 "cells": [
  {
   "cell_type": "code",
   "execution_count": 15,
   "metadata": {},
   "outputs": [],
   "source": [
    "\n",
    "import pandas as pd\n",
    "import numpy as np"
   ]
  },
  {
   "cell_type": "code",
   "execution_count": 12,
   "metadata": {},
   "outputs": [],
   "source": [
    "my_matrix = numpy.loadtxt(open(\"20180321.csv\",\"r\"),delimiter=\",\",skiprows=0) \n"
   ]
  },
  {
   "cell_type": "code",
   "execution_count": 13,
   "metadata": {},
   "outputs": [
    {
     "name": "stdout",
     "output_type": "stream",
     "text": [
      "[[1.76626373e+08 2.85000000e+04]\n",
      " [9.76644587e+08 2.85000000e+04]\n",
      " [1.50789899e+09 2.85000000e+04]\n",
      " ...\n",
      " [4.52008660e+07 3.58506842e+09]\n",
      " [3.51106680e+09 3.59127115e+09]\n",
      " [2.74781720e+07 3.59127115e+09]]\n"
     ]
    }
   ],
   "source": [
    "print(my_matrix)"
   ]
  },
  {
   "cell_type": "code",
   "execution_count": 14,
   "metadata": {},
   "outputs": [],
   "source": [
    "import networkx as nx"
   ]
  },
  {
   "cell_type": "code",
   "execution_count": 17,
   "metadata": {},
   "outputs": [],
   "source": [
    "def PageRank(M, alpha, root):\n",
    "    \"\"\"\n",
    "    Personal Rank in matrix formation\n",
    "    :param M: transfer probability matrix\n",
    "    :param index2node: index2node dictionary\n",
    "    :param node2index: node2index dictionary\n",
    "    :return:type of list of tuple, ex.\n",
    "    [(node1, prob1),(node2, prob2),...]\n",
    "    \"\"\"\n",
    "    result = []\n",
    "    n = len(M)\n",
    "    v = np.zeros(n)\n",
    "    v[node2index[root]] = 1\n",
    "    while np.sum(abs(v - (alpha*np.matmul(M,v) + (1-alpha)*v))) > 0.0001:\n",
    "        v = alpha * np.matmul(M, v) + (1-alpha)*v\n",
    "    for ind, prob in enumerate(v):\n",
    "        result.append((index2node[ind], prob))\n",
    "    result = sorted(result, key=lambda x:x[1], reverse=True)[:num_candidates]\n",
    "    return result\n",
    "\n"
   ]
  },
  {
   "cell_type": "code",
   "execution_count": 18,
   "metadata": {},
   "outputs": [],
   "source": [
    "def Generate_Transfer_Matrix(G):\n",
    "    \"\"\"generate transfer matrix given graph\"\"\"\n",
    "    index2node = dict()\n",
    "    node2index = dict()\n",
    "    for index,node in enumerate(G.keys()):\n",
    "        node2index[node] = index\n",
    "        index2node[index] = node\n",
    "    # num of nodes\n",
    "    n = len(node2index)\n",
    "    # generate Transfer probability matrix M, shape of (n,n)\n",
    "    M = np.zeros([n,n])\n",
    "    for node1 in G.keys():\n",
    "        for node2 in G[node1]:\n",
    "            # FIXME: some nodes not in the Graphs.keys, may incur some errors\n",
    "            try:\n",
    "                M[node2index[node2],node2index[node1]] = 1/len(G[node1])\n",
    "            except:\n",
    "                continue\n",
    "    return M, node2index, index2node\n",
    "\n"
   ]
  },
  {
   "cell_type": "code",
   "execution_count": 20,
   "metadata": {},
   "outputs": [
    {
     "name": "stdout",
     "output_type": "stream",
     "text": [
      "     A     B    C    a    b         c    d\n",
      "A  0.0  0.00  0.0  0.5  0.0  0.333333  0.0\n",
      "B  0.0  0.00  0.0  0.5  1.0  0.333333  0.5\n",
      "C  0.0  0.00  0.0  0.0  0.0  0.333333  0.5\n",
      "a  0.5  0.25  0.0  0.0  0.0  0.000000  0.0\n",
      "b  0.0  0.25  0.0  0.0  0.0  0.000000  0.0\n",
      "c  0.5  0.25  0.5  0.0  0.0  0.000000  0.0\n",
      "d  0.0  0.25  0.5  0.0  0.0  0.000000  0.0\n",
      "[('B', 0.2500114988760249), ('c', 0.18749137573461494), ('A', 0.12500579685263594), ('C', 0.12500570359816637), ('a', 0.12499429679552787), ('d', 0.12499420354105852), ('b', 0.06249712460197146)]\n"
     ]
    }
   ],
   "source": [
    "if __name__ == '__main__':\n",
    "    alpha = 0.85\n",
    "    root = 'A'\n",
    "    num_iter = 100\n",
    "    num_candidates = 10\n",
    "    G = {'A' : {'a' : 1, 'c' : 1},\n",
    "         'B' : {'a' : 1, 'b' : 1, 'c':1, 'd':1},\n",
    "         'C' : {'c' : 1, 'd' : 1},\n",
    "         'a' : {'A' : 1, 'B' : 1},\n",
    "         'b' : {'B' : 1},\n",
    "         'c' : {'A' : 1, 'B' : 1, 'C':1},\n",
    "         'd' : {'B' : 1, 'C' : 1}}\n",
    "    M, node2index, index2node = Generate_Transfer_Matrix(G)\n",
    "    # print transfer matrix\n",
    "    print(pd.DataFrame(M, index=G.keys(), columns=G.keys()))\n",
    "    result = PageRank(M, alpha, root)\n",
    "    # print results\n",
    "    print(result)\n"
   ]
  },
  {
   "cell_type": "code",
   "execution_count": null,
   "metadata": {},
   "outputs": [],
   "source": []
  }
 ],
 "metadata": {
  "kernelspec": {
   "display_name": "Python 3",
   "language": "python",
   "name": "python3"
  },
  "language_info": {
   "codemirror_mode": {
    "name": "ipython",
    "version": 3
   },
   "file_extension": ".py",
   "mimetype": "text/x-python",
   "name": "python",
   "nbconvert_exporter": "python",
   "pygments_lexer": "ipython3",
   "version": "3.6.5"
  }
 },
 "nbformat": 4,
 "nbformat_minor": 2
}
