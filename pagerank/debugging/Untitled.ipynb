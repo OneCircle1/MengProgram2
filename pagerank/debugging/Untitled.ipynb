{
 "cells": [
  {
   "cell_type": "code",
   "execution_count": 1,
   "metadata": {},
   "outputs": [],
   "source": [
    "import csv"
   ]
  },
  {
   "cell_type": "code",
   "execution_count": 2,
   "metadata": {},
   "outputs": [],
   "source": [
    "with open('../ABC.csv', mode='r') as infile:\n",
    "    reader = csv.reader(infile)\n",
    "    with open('../ABC_new.csv', mode='w') as outfile:\n",
    "        writer = csv.writer(outfile)\n",
    "        G = {rows[0]:rows[1] for rows in reader}"
   ]
  },
  {
   "cell_type": "code",
   "execution_count": 11,
   "metadata": {},
   "outputs": [
    {
     "name": "stdout",
     "output_type": "stream",
     "text": [
      "{'A': ['a', 'c'], 'B': ['a', 'b', 'c', 'd'], 'C': ['c', 'd'], 'a': ['A', 'B'], 'b': ['B'], 'c': ['A', 'B', 'C'], 'd': ['B', 'C']}\n"
     ]
    }
   ],
   "source": [
    "print(G)"
   ]
  },
  {
   "cell_type": "code",
   "execution_count": 9,
   "metadata": {},
   "outputs": [],
   "source": [
    "G = {}"
   ]
  },
  {
   "cell_type": "code",
   "execution_count": 10,
   "metadata": {},
   "outputs": [],
   "source": [
    "with open('../ABC.csv', mode='r') as infile:\n",
    "    reader = csv.reader(infile)\n",
    "    with open('../ABC_new.csv', mode='w') as outfile:\n",
    "        writer = csv.writer(outfile)\n",
    "        for rows in reader:\n",
    "            G.setdefault(rows[0],[]).append(rows[1])"
   ]
  },
  {
   "cell_type": "code",
   "execution_count": null,
   "metadata": {},
   "outputs": [],
   "source": []
  }
 ],
 "metadata": {
  "kernelspec": {
   "display_name": "Python 3",
   "language": "python",
   "name": "python3"
  },
  "language_info": {
   "codemirror_mode": {
    "name": "ipython",
    "version": 3
   },
   "file_extension": ".py",
   "mimetype": "text/x-python",
   "name": "python",
   "nbconvert_exporter": "python",
   "pygments_lexer": "ipython3",
   "version": "3.6.5"
  }
 },
 "nbformat": 4,
 "nbformat_minor": 2
}
